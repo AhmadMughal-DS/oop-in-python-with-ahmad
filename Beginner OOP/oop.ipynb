{
 "cells": [
  {
   "cell_type": "code",
   "execution_count": 7,
   "metadata": {},
   "outputs": [
    {
     "name": "stdout",
     "output_type": "stream",
     "text": [
      "Kamran HFD\n",
      "Giga Mall\n"
     ]
    }
   ],
   "source": [
    "class Shop:\n",
    "    mall_name = \"Giga Mall\"\n",
    "    def __init__(self,name,location):\n",
    "        self.name = name\n",
    "        self.location = location\n",
    "    def __str__(self):\n",
    "        return f\"{self.name} {self.location}\"\n",
    "\n",
    "shop1 = Shop(\"Kamran\",\"HFD\")\n",
    "shop2 = Shop(\"Umar\",\"isl\")\n",
    "\n",
    "print(str(shop1))\n",
    "print(Shop.mall_name)"
   ]
  }
 ],
 "metadata": {
  "kernelspec": {
   "display_name": "ml_env",
   "language": "python",
   "name": "python3"
  },
  "language_info": {
   "codemirror_mode": {
    "name": "ipython",
    "version": 3
   },
   "file_extension": ".py",
   "mimetype": "text/x-python",
   "name": "python",
   "nbconvert_exporter": "python",
   "pygments_lexer": "ipython3",
   "version": "3.12.1"
  }
 },
 "nbformat": 4,
 "nbformat_minor": 2
}
